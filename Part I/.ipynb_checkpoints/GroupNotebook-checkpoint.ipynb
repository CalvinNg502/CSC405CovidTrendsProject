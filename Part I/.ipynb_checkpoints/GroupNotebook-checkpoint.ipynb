{
 "cells": [
  {
   "cell_type": "code",
   "execution_count": 24,
   "id": "bcd94dad",
   "metadata": {},
   "outputs": [],
   "source": [
    "import pandas as pd\n",
    "\n",
    "# open base tables\n",
    "deaths = pd.read_csv('../Data/covid_deaths_usafacts.csv')\n",
    "cases = pd.read_csv('../Data/covid_confirmed_usafacts.csv')\n",
    "population = pd.read_csv('../Data/covid_county_population_usafacts.csv')\n",
    "\n",
    "# clean up dates in deaths and cases\n",
    "deaths.rename(columns={col: 'deaths ' + col for col in deaths.columns[4:]}, inplace=True)\n",
    "cases.rename(columns={col: 'cases ' + col for col in cases.columns[4:]}, inplace=True)\n",
    "deaths['County Name'] = deaths['County Name'].str.strip()\n",
    "cases['County Name'] = cases['County Name'].str.strip()\n",
    "\n",
    "# perform merges\n",
    "joined = pd.merge(cases, deaths)\n",
    "joined = pd.merge(population, joined)\n",
    "\n",
    "# save the merged data in Data directory\n",
    "joined.to_csv('../Data/base_set_joined.csv')"
   ]
  },
  {
   "cell_type": "code",
   "execution_count": null,
   "id": "3a418b68",
   "metadata": {},
   "outputs": [],
   "source": []
  }
 ],
 "metadata": {
  "kernelspec": {
   "display_name": "Python 3 (ipykernel)",
   "language": "python",
   "name": "python3"
  },
  "language_info": {
   "codemirror_mode": {
    "name": "ipython",
    "version": 3
   },
   "file_extension": ".py",
   "mimetype": "text/x-python",
   "name": "python",
   "nbconvert_exporter": "python",
   "pygments_lexer": "ipython3",
   "version": "3.9.13"
  }
 },
 "nbformat": 4,
 "nbformat_minor": 5
}
