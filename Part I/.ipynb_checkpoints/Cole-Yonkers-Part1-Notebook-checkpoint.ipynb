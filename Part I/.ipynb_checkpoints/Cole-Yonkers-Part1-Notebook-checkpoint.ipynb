{
 "cells": [
  {
   "cell_type": "code",
   "execution_count": 57,
   "id": "bcd94dad",
   "metadata": {},
   "outputs": [
    {
     "name": "stdout",
     "output_type": "stream",
     "text": [
      "[0, 0, 0, 0, 0, 0, 0, 0]\n"
     ]
    }
   ],
   "source": [
    "import pandas as pd\n",
    "\n",
    "#open full data table and table we aim to merge\n",
    "master_table = pd.read_csv('../Data/base_set_joined.csv')\n",
    "political_table = pd.read_csv('../Data/president_county_candidate.csv')\n",
    "\n",
    "#cleanup\n",
    "political_table = political_table.loc[:, political_table.columns != 'Name']\n",
    "political_table = political_table.loc[:, political_table.columns != 'Abbrev']\n",
    "\n",
    "political_table = political_table.rename(columns={'County': 'County Name'})\n",
    "#Do an inner join on the data\n",
    "joined = pd.merge(master_table, political_table)\n",
    "\n",
    "joined.to_csv('../Data/ColeYonkers_Joined_Set.csv')\n",
    "\n",
    "#Save the last seven days of data to a list then output it \n",
    "df = master_table\n",
    "df2 = df.loc[df[\"State\"] == \"AK\"]\n",
    "list_of_differences = [0]\n",
    "\n",
    "for x in range(1,8):\n",
    "    \n",
    "    yesterdays_total = df2.iloc[:, (-x -1)].sum()\n",
    "    curr_sum = df2.iloc[:, -x].sum()\n",
    "    difference = (curr_sum - yesterdays_total)\n",
    "    list_of_differences.append(difference)\n",
    "\n",
    "#reverse list since changes were appended in reverse order\n",
    "list_of_differences.reverse()\n",
    "#output the list, can clearly see a trend. It is stable, as no one has died in AK from covid in some time.  \n",
    "print( list_of_differences )\n",
    "    \n",
    "\n"
   ]
  },
  {
   "cell_type": "code",
   "execution_count": null,
   "id": "3a418b68",
   "metadata": {},
   "outputs": [],
   "source": []
  }
 ],
 "metadata": {
  "kernelspec": {
   "display_name": "Python 3 (ipykernel)",
   "language": "python",
   "name": "python3"
  },
  "language_info": {
   "codemirror_mode": {
    "name": "ipython",
    "version": 3
   },
   "file_extension": ".py",
   "mimetype": "text/x-python",
   "name": "python",
   "nbconvert_exporter": "python",
   "pygments_lexer": "ipython3",
   "version": "3.9.13"
  }
 },
 "nbformat": 4,
 "nbformat_minor": 5
}
